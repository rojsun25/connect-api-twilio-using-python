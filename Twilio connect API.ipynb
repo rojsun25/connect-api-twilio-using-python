{
 "cells": [
  {
   "cell_type": "markdown",
   "id": "4330411c",
   "metadata": {},
   "source": [
    "## Send and Retrive Messages - twilio connect API-Key"
   ]
  },
  {
   "cell_type": "code",
   "execution_count": 6,
   "id": "6f77c559",
   "metadata": {
    "scrolled": true
   },
   "outputs": [
    {
     "name": "stdout",
     "output_type": "stream",
     "text": [
      "Collecting twilio\n",
      "  Downloading twilio-7.9.0-py2.py3-none-any.whl (1.4 MB)\n",
      "Requirement already satisfied: pytz in c:\\institutions\\gre\\apps\\anaconda3-2021.05\\lib\\site-packages (from twilio) (2021.1)\n",
      "Requirement already satisfied: requests>=2.0.0 in c:\\institutions\\gre\\apps\\anaconda3-2021.05\\lib\\site-packages (from twilio) (2.25.1)\n",
      "Requirement already satisfied: PyJWT<3.0.0,>=2.0.0 in c:\\institutions\\gre\\apps\\anaconda3-2021.05\\lib\\site-packages (from twilio) (2.1.0)\n",
      "Requirement already satisfied: idna<3,>=2.5 in c:\\institutions\\gre\\apps\\anaconda3-2021.05\\lib\\site-packages (from requests>=2.0.0->twilio) (2.10)\n",
      "Requirement already satisfied: chardet<5,>=3.0.2 in c:\\institutions\\gre\\apps\\anaconda3-2021.05\\lib\\site-packages (from requests>=2.0.0->twilio) (4.0.0)\n",
      "Requirement already satisfied: urllib3<1.27,>=1.21.1 in c:\\institutions\\gre\\apps\\anaconda3-2021.05\\lib\\site-packages (from requests>=2.0.0->twilio) (1.26.4)\n",
      "Requirement already satisfied: certifi>=2017.4.17 in c:\\institutions\\gre\\apps\\anaconda3-2021.05\\lib\\site-packages (from requests>=2.0.0->twilio) (2020.12.5)\n",
      "Installing collected packages: twilio\n",
      "Successfully installed twilio-7.9.0\n"
     ]
    }
   ],
   "source": [
    "#Install twilio packages  \n",
    "!pip install twilio"
   ]
  },
  {
   "cell_type": "code",
   "execution_count": 9,
   "id": "35d3cf3c",
   "metadata": {},
   "outputs": [],
   "source": [
    "#import the client library \n",
    "from twilio.rest import Client"
   ]
  },
  {
   "cell_type": "code",
   "execution_count": null,
   "id": "b424c40d",
   "metadata": {},
   "outputs": [],
   "source": [
    "#Account name = Accout SID\n",
    "#API Key = Secret key/Password/Auth token\n",
    "\n",
    "#Intialise account name and token key within \" \"\n",
    "\n",
    "client = Client(\"Account name\",\"Secret key\")"
   ]
  },
  {
   "cell_type": "code",
   "execution_count": 14,
   "id": "ea55bfc4",
   "metadata": {},
   "outputs": [
    {
     "name": "stdout",
     "output_type": "stream",
     "text": [
      "Created a new message: SMc029d24e6075424594f430efcdb79ae5\n"
     ]
    }
   ],
   "source": [
    "#Function to Send message\n",
    "#To and  from phone numbers in \" \"\n",
    "\n",
    "msg = client.messages.create( \n",
    "    to = \" \",\n",
    "    from_=\" \",\n",
    "    body = \"Hello Rojsun\"\n",
    ")\n",
    "\n",
    "print(f\"Created a new message: {msg.sid}\")"
   ]
  },
  {
   "cell_type": "code",
   "execution_count": 17,
   "id": "06b073b3",
   "metadata": {},
   "outputs": [],
   "source": [
    "#List all message Sent/Acknowledged \n",
    "\n",
    "for msg in client.messages.list():\n",
    "    print(msg.body)"
   ]
  },
  {
   "cell_type": "code",
   "execution_count": 16,
   "id": "d3a4b131",
   "metadata": {},
   "outputs": [
    {
     "name": "stdout",
     "output_type": "stream",
     "text": [
      "Deleting Sent from your Twilio trial account - Hello Rojsun\n"
     ]
    }
   ],
   "source": [
    "#Delete the message box\n",
    "for msg in client.messages.list():\n",
    "    print(f\"Deleting {msg.body}\")\n",
    "    msg.delete()"
   ]
  },
  {
   "cell_type": "code",
   "execution_count": null,
   "id": "8ffd6dc4",
   "metadata": {},
   "outputs": [],
   "source": [
    "#Verify deleted messages with the same command \n",
    "\n",
    "for msg in client.messages.list():\n",
    "    print(msg.body)"
   ]
  }
 ],
 "metadata": {
  "kernelspec": {
   "display_name": "Python 3",
   "language": "python",
   "name": "python3"
  },
  "language_info": {
   "codemirror_mode": {
    "name": "ipython",
    "version": 3
   },
   "file_extension": ".py",
   "mimetype": "text/x-python",
   "name": "python",
   "nbconvert_exporter": "python",
   "pygments_lexer": "ipython3",
   "version": "3.8.8"
  }
 },
 "nbformat": 4,
 "nbformat_minor": 5
}
