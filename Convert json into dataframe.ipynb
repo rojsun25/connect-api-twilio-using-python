{
 "cells": [
  {
   "cell_type": "code",
   "execution_count": null,
   "id": "4054690d",
   "metadata": {},
   "outputs": [],
   "source": [
    "import pprint\n",
    "import requests \n",
    "\n"
   ]
  },
  {
   "cell_type": "code",
   "execution_count": 1,
   "id": "76e433d6",
   "metadata": {},
   "outputs": [
    {
     "name": "stdout",
     "output_type": "stream",
     "text": [
      "\n",
      "{\n",
      "\"technologies\":\n",
      "         [\n",
      "         { \"Courses\": \"Spark\", \"Fee\": 22000,\"Duration\":\"40Days\"},\n",
      "         { \"Courses\": \"PySpark\",\"Fee\": 25000,\"Duration\":\"60Days\"},\n",
      "         { \"Courses\": \"Hadoop\", \"Fee\": 23000,\"Duration\":\"50Days\"}\n",
      "         ],\n",
      "\"status\": [\"ok\"]\n",
      "}\n",
      "\n"
     ]
    }
   ],
   "source": [
    "import pandas as pd\n",
    "import json\n",
    "from pandas import json_normalize\n",
    "data = '''\n",
    "{\n",
    "\"technologies\":\n",
    "         [\n",
    "         { \"Courses\": \"Spark\", \"Fee\": 22000,\"Duration\":\"40Days\"},\n",
    "         { \"Courses\": \"PySpark\",\"Fee\": 25000,\"Duration\":\"60Days\"},\n",
    "         { \"Courses\": \"Hadoop\", \"Fee\": 23000,\"Duration\":\"50Days\"}\n",
    "         ],\n",
    "\"status\": [\"ok\"]\n",
    "}\n",
    "'''\n",
    "print(data)"
   ]
  },
  {
   "cell_type": "code",
   "execution_count": 2,
   "id": "33c49cb3",
   "metadata": {},
   "outputs": [
    {
     "name": "stdout",
     "output_type": "stream",
     "text": [
      "   Courses    Fee Duration\n",
      "0    Spark  22000   40Days\n",
      "1  PySpark  25000   60Days\n",
      "2   Hadoop  23000   50Days\n"
     ]
    }
   ],
   "source": [
    "# Use json_normalize() to convert JSON to DataFrame\n",
    "dict = json.loads(data)\n",
    "df2 = json_normalize(dict['technologies']) \n",
    "print(df2)"
   ]
  },
  {
   "cell_type": "code",
   "execution_count": 3,
   "id": "154fc4b8",
   "metadata": {},
   "outputs": [
    {
     "name": "stdout",
     "output_type": "stream",
     "text": [
      "       Courses  Discount\n",
      "Index0  Pandas      1200\n",
      "Index1  Hadoop      1500\n",
      "Index2   Spark      1800\n"
     ]
    }
   ],
   "source": [
    "import pandas as pd\n",
    "jsonStr = '''{\"Index0\":{\"Courses\": \"Pandas\",\"Discount\": \"1200\"},\n",
    "           \"Index1\":{\"Courses\": \"Hadoop\",\"Discount\": \"1500\"},\n",
    "           \"Index2\":{\"Courses\": \"Spark\",\"Discount\": \"1800\"}\n",
    "          }'''\n",
    "# Convert JSON to DataFrame Using read_json()\n",
    "df2 = pd.read_json(jsonStr, orient ='index')\n",
    "print(df2)"
   ]
  },
  {
   "cell_type": "code",
   "execution_count": 4,
   "id": "4c118f0a",
   "metadata": {},
   "outputs": [
    {
     "name": "stdout",
     "output_type": "stream",
     "text": [
      "               0\n",
      "Courses    Spark\n",
      "Fee        22000\n",
      "Duration  40Days\n"
     ]
    }
   ],
   "source": [
    "\n",
    "import pandas as pd\n",
    "import json\n",
    "from pandas import json_normalize\n",
    "json_string = '{ \"Courses\": \"Spark\", \"Fee\": 22000,\"Duration\":\"40Days\"}'\n",
    "data = json.loads(json_string)\n",
    "\n",
    "# Use pandas.DataFrame.from_dict() to Convert JSON to DataFrame\n",
    "df2 = pd.DataFrame.from_dict(data, orient=\"index\")\n",
    "print(df2)"
   ]
  },
  {
   "cell_type": "code",
   "execution_count": 6,
   "id": "6f2999a6",
   "metadata": {},
   "outputs": [],
   "source": [
    "import requests\n",
    "import pandas as pd\n",
    "import numpy as np\n",
    "d = requests.get('https://newsapi.org/v2/everything?q=tesla&from=2022-04-17&sortBy=publishedAt&apiKey=9986f63974ea4f0486451199d0d13884')"
   ]
  },
  {
   "cell_type": "code",
   "execution_count": 7,
   "id": "59148828",
   "metadata": {},
   "outputs": [
    {
     "data": {
      "text/plain": [
       "<Response [200]>"
      ]
     },
     "execution_count": 7,
     "metadata": {},
     "output_type": "execute_result"
    }
   ],
   "source": [
    "d"
   ]
  },
  {
   "cell_type": "code",
   "execution_count": 9,
   "id": "11238c2c",
   "metadata": {},
   "outputs": [
    {
     "data": {
      "text/plain": [
       "b'{\"status\":\"ok\",\"totalResults\":22707,\"articles\":[{\"source\":{\"id\":null,\"name\":\"Www.nrc.nl\"},\"author\":\"Japke-d. Bouma\",\"title\":\"\\xe2\\x80\\x98Anti-work movement\\xe2\\x80\\x99? Stop gewoon met zeuren\",\"description\":\"Japke-d. denkt mee:Als je ongelukkig wordt van je werk, moet je niet stoppen met werken maar een andere baan zoeken, vindt Japke-d. Bouma.\",\"url\":\"https://www.nrc.nl/nieuws/2022/05/17/anti-work-movement-stop-gewoon-met-zeuren-a4124714\",\"urlToImage\":\"https://images.nrc.nl/WhXdV8z8jTUBb3iWmrlKWF4O1p4=/1200x627/smart/filters:no_upscale()/s3/static.nrc.nl/images/gn4/stripped/data85873689-95fb23.jpg\",\"publishedAt\":\"2022-05-17T20:43:02Z\",\"content\":\"Als kantoorexpert weet ik als geen ander hoe zwaar werk soms kan zijn. Maar er zijn momenten dat ik denk: je kunt het ook overdrijven. Dat heb ik bij de anti-work movement een beweging waar je steeds\\xe2\\x80\\xa6 [+4614 chars]\"},{\"source\":{\"id\":\"al-jazeera-english\",\"name\":\"Al Jazeera English\"},\"author\":\"Al Jazeera\",\"title\":\"Twitter loses three more senior employees ahead of Musk takeover\",\"description\":\"All three chose to exit on their own, according to internal memos described to Bloomberg.\",\"url\":\"https://www.aljazeera.com/economy/2022/5/17/twitter-loses-three-more-senior-employees-ahead-of-musk-takeover\",\"urlToImage\":\"https://www.aljazeera.com/wp-content/uploads/2022/05/twitter-1.jpg?resize=1200%2C630\",\"publishedAt\":\"2022-05-17T20:38:52Z\",\"content\":\"Twitter Inc. is losing three more senior employees, including two vice presidents, a reflection of the uncertainty inside the social media company as staffers wait for Elon Musks $44 billion acquisit\\xe2\\x80\\xa6 [+2130 chars]\"},{\"source\":{\"id\":null,\"name\":\"Terra.com.br\"},\"author\":\"Reuters\",\"title\":\"Wall Street fecha em alta expressiva com impulso da Apple\",\"description\":\"Wall Street encerrou em alta expressiva nesta ter\\xc3\\xa7a-feira, impulsionado por Apple, Tesla e outras a\\xc3\\xa7\\xc3\\xb5es de megacapitaliza\\xc3\\xa7\\xc3\\xa3o depois que fortes vendas no...\",\"url\":\"https://www.terra.com.br/economia/wall-street-fecha-em-alta-expressiva-com-impulso-da-apple,c76f074adfe30c3b0e82eb30ecfd78c37zx7qd4r.html\",\"urlToImage\":\"https://s1.trrsf.com/fe/zaz-mod-t360-icons/svg/logos/terra-16x9-borda.png\",\"publishedAt\":\"2022-05-17T20:38:37Z\",\"content\":\"Wall Street encerrou em alta expressiva nesta ter\\xc3\\xa7a-feira, impulsionado por Apple, Tesla e outras a\\xc3\\xa7\\xc3\\xb5es de megacapitaliza\\xc3\\xa7\\xc3\\xa3o depois que fortes vendas no varejo em abril aliviaram preocupa\\xc3\\xa7\\xc3\\xb5es com a d\\xe2\\x80\\xa6 [+239 chars]\"},{\"source\":{\"id\":null,\"name\":\"New York Post\"},\"author\":\"Ariel Zilber\",\"title\":\"Elon Musk reveals if he\\xe2\\x80\\x99s voting Democrat or Republican in next election\",\"description\":\"Musk, who has indicated he\\xc2\\xa0may pull out of his $44 billion takeover\\xc2\\xa0of Twitter, told the All-In Summit podcast that he \\\\\"overwhelmingly\\\\\" voted for Democrats in the past.\",\"url\":\"https://nypost.com/2022/05/17/elon-musk-reveals-if-hes-voting-democrat-or-republican-in-next-election/\",\"urlToImage\":\"https://nypost.com/wp-content/uploads/sites/2/2022/05/Elon_Musk_election2.jpg?quality=75&strip=all&w=1024\",\"publishedAt\":\"2022-05-17T20:38:23Z\",\"content\":\"Tesla CEO Elon Musk said he plans on voting for Republican candidates in the upcoming elections for the first time.\\\\r\\\\nMusk, who has indicated he\\xc2\\xa0may pull out of his $44 billion takeover\\xc2\\xa0of Twitter, to\\xe2\\x80\\xa6 [+2629 chars]\"},{\"source\":{\"id\":null,\"name\":\"Naftemporiki.gr\"},\"author\":null,\"title\":\"Wall Street: \\xce\\xa1\\xce\\xac\\xce\\xbb\\xce\\xb9 \\xce\\xb1\\xce\\xbd\\xcf\\x8c\\xce\\xb4\\xce\\xbf\\xcf\\x85 \\xce\\xb1\\xce\\xbb\\xce\\xbb\\xce\\xac... \\xcf\\x84\\xce\\xbf \\xcf\\x80\\xce\\xb1\\xcf\\x81\\xce\\xb5\\xce\\xbb\\xce\\xb8\\xcf\\x8c\\xce\\xbd \\xce\\xb4\\xce\\xb5\\xce\\xbd \\xce\\xb5\\xcf\\x80\\xce\\xb9\\xcf\\x84\\xcf\\x81\\xce\\xad\\xcf\\x80\\xce\\xb5\\xce\\xb9 \\xce\\xb1\\xce\\xb9\\xcf\\x83\\xce\\xb9\\xce\\xbf\\xce\\xb4\\xce\\xbf\\xce\\xbe\\xce\\xaf\\xce\\xb1\",\"description\":\"\\xce\\xa3\\xce\\xb5 \\xcf\\x81\\xce\\xac\\xce\\xbb\\xce\\xb9 \\xce\\xb5\\xcf\\x80\\xce\\xb9\\xce\\xb4\\xcf\\x8c\\xce\\xb8\\xce\\xb7\\xce\\xba\\xce\\xb5 \\xce\\xb7 Wall Street \\xcf\\x83\\xcf\\x84\\xce\\xb7 \\xcf\\x83\\xce\\xb7\\xce\\xbc\\xce\\xb5\\xcf\\x81\\xce\\xb9\\xce\\xbd\\xce\\xae \\xcf\\x83\\xcf\\x85\\xce\\xbd\\xce\\xb5\\xce\\xb4\\xcf\\x81\\xce\\xaf\\xce\\xb1\\xcf\\x83\\xce\\xb7, \\xce\\xbc\\xce\\xb5 \\xce\\xbf\\xce\\xb4\\xce\\xb7\\xce\\xb3\\xcf\\x8c \\xcf\\x84\\xce\\xb9\\xcf\\x82 Apple, Tesla \\xce\\xba\\xce\\xb1\\xce\\xb9 \\xce\\xac\\xce\\xbb\\xce\\xbb\\xce\\xb5\\xcf\\x82 \\xce\\xbc\\xce\\xb5\\xcf\\x84\\xce\\xbf\\xcf\\x87\\xce\\xad\\xcf\\x82 \\xce\\xb1\\xce\\xbd\\xce\\xac\\xcf\\x80\\xcf\\x84\\xcf\\x85\\xce\\xbe\\xce\\xb7\\xcf\\x82 \\xce\\xbc\\xce\\xb5\\xce\\xb3\\xce\\xac\\xce\\xbb\\xce\\xb7\\xcf\\x82 \\xce\\xba\\xce\\xb5\\xcf\\x86\\xce\\xb1\\xce\\xbb\\xce\\xb1\\xce\\xb9\\xce\\xbf\\xcf\\x80\\xce\\xbf\\xce\\xaf\\xce\\xb7\\xcf\\x83\\xce\\xb7\\xcf\\x82, \\xcf\\x83\\xcf\\x84\\xce\\xbf\\xce\\xbd \\xce\\xb1\\xcf\\x80\\xcf\\x8c\\xce\\xb7\\xcf\\x87\\xce\\xbf \\xcf\\x84\\xcf\\x89\\xce\\xbd \\xce\\xb9\\xce\\xb4\\xce\\xb9\\xce\\xb1\\xce\\xaf\\xcf\\x84\\xce\\xb5\\xcf\\x81\\xce\\xb1 \\xce\\xb8\\xce\\xb5\\xcf\\x84\\xce\\xb9\\xce\\xba\\xcf\\x8e\\xce\\xbd \\xcf\\x83\\xcf\\x84\\xce\\xbf\\xce\\xb9\\xcf\\x87\\xce\\xb5\\xce\\xaf\\xcf\\x89\\xce\\xbd \\xce\\xb3\\xce\\xb9\\xce\\xb1 \\xcf\\x84\\xce\\xb9\\xcf\\x82 \\xcf\\x80\\xcf\\x89\\xce\\xbb\\xce\\xae\\xcf\\x83\\xce\\xb5\\xce\\xb9\\xcf\\x82 \\xce\\xbb\\xce\\xb9\\xce\\xb1\\xce\\xbd\\xce\\xb9\\xce\\xba\\xce\\xae\\xcf\\x82 \\xcf\\x83\\xcf\\x84\\xce\\xb9\\xcf\\x82 \\xce\\x97\\xce\\xa0\\xce\\x91 \\xcf\\x84\\xce\\xbf\\xce\\xbd \\xce\\x91\\xcf\\x80\\xcf\\x81\\xce\\xaf\\xce\\xbb\\xce\\xb9\\xce\\xbf, \\xcf\\x84\\xce\\xb1 \\xce\\xbf\\xcf\\x80\\xce\\xbf\\xce\\xaf\\xce\\xb1 \\xce\\xb1\\xcf\\x80\\xce\\xbf\\xce\\xbc\\xce\\xac\\xce\\xba\\xcf\\x81\\xcf\\x85\\xce\\xbd\\xce\\xb1\\xce\\xbd \\xce\\xba\\xce\\xac\\xcf\\x80\\xcf\\x89\\xcf\\x82 \\xcf\\x84\\xce\\xb9\\xcf\\x82 \\xe2\\x80\\xa6\",\"url\":\"https://www.naftemporiki.gr/finance/story/1863847/wall-street-rali-anodou-alla-to-parelthon-den-epitrepei-aisiodoksia\",\"urlToImage\":\"https://www.naftemporiki.gr/fu/t/1863847/1080/568/0x0000000001d2422b/2/1/wall-street-rali-anodou-alla-parelthon-epitrepei-aisiodoksia.jpg\",\"publishedAt\":\"2022-05-17T20:35:42Z\",\"content\":\"Wall Street , Apple, Tesla , , .\\xc2\\xa0\\\\r\\\\nDow Jones 431,17 1,34%, S&amp;P 500 2,02%, Nasdaq 2,76%.\\\\r\\\\n . S&amp;P 500 , 2011, Dow Jones , 2011. , S&amp;P 500 Dow 14,2% 10,1% .\\xc2\\xa0 \\xc2\\xa0\\\\r\\\\nO 10 11 S&amp;P 500 , , 2%.\\xc2\\xa0\\\\r\\xe2\\x80\\xa6 [+204 chars]\"},{\"source\":{\"id\":null,\"name\":\"Daily Mail\"},\"author\":\"Alex Oliveira\",\"title\":\"Elon Musk responds to footage of Twitter engineer saying all workers there are \\'commie as f***\\'\",\"description\":\"Elon Musk has finally responded to footage of a senior engineer at Twitter admitting that the social media giant routinely censors conservatives and \\'does not believe in free speech.\\'\",\"url\":\"https://www.dailymail.co.uk/news/article-10826539/Elon-Musk-responds-footage-Twitter-engineer-saying-workers-commie-f.html\",\"urlToImage\":\"https://i.dailymail.co.uk/1s/2022/05/17/20/57938881-0-image-a-16_1652817293867.jpg\",\"publishedAt\":\"2022-05-17T20:34:46Z\",\"content\":\"Elon Musk has finally responded to footage of a senior engineer at Twitter admitting that the social media giant routinely censors conservatives and \\'does not believe in free speech.\\'\\\\r\\\\n\\'Is this legit\\xe2\\x80\\xa6 [+21371 chars]\"},{\"source\":{\"id\":null,\"name\":\"Challenges\"},\"author\":\"Reuters\",\"title\":\"Wall Street finit en hausse, port\\xc3\\xa9e par les valeurs \\xc3\\xa0 forte croissance\",\"description\":\"par Amruta Khandekar et Noel Randewich\\\\n(Reuters) - La Bourse de New York a fini en nette hausse mardi, port\\xc3\\xa9e par les valeurs \\xc3\\xa0 forte croissance dont Apple et Tesla, alors que des donn\\xc3\\xa9es sur les ventes au d\\xc3\\xa9tail en avril aux Etats-Unis ont apais\\xc3\\xa9 les inqui\\xc3\\xa9t\\xe2\\x80\\xa6\",\"url\":\"https://www.challenges.fr/finance-et-marche/wall-street-finit-en-hausse-portee-par-les-valeurs-a-forte-croissance_813580\",\"urlToImage\":\"https://www.challenges.fr/assets/img/2022/05/17/cover-r4x3w1000-628405e7a21fe-wall-street-finit-en-hausse-portee-par-les-valeurs-a.jpg\",\"publishedAt\":\"2022-05-17T20:27:18Z\",\"content\":\"par Amruta Khandekar et Noel Randewich\\\\r\\\\n(Reuters) - La Bourse de New York a fini en nette hausse mardi, port\\xc3\\xa9e par les valeurs \\xc3\\xa0 forte croissance dont Apple et Tesla, alors que des donn\\xc3\\xa9es sur les ve\\xe2\\x80\\xa6 [+2159 chars]\"},{\"source\":{\"id\":\"fox-news\",\"name\":\"Fox News\"},\"author\":\"Michael Addvensky\",\"title\":\"Brian Brenberg: This Is The Presidency Of Economic Illogic\",\"description\":\"Fox News contributor and Professor of Business and Economics at The King\\xe2\\x80\\x99s College in New York City Brian Brenberg joins Fox Across America With Jimmy Failla to shed light on the current economic crises facing the U.S., and how President Biden\\xe2\\x80\\x99s policies have\\xe2\\x80\\xa6\",\"url\":\"https://radio.foxnews.com/2022/05/17/brian-brenberg-this-is-the-presidency-of-economic-illogic/\",\"urlToImage\":\"https://radio.foxnews.com/wp-content/uploads/2022/05/brenberg1.jpg\",\"publishedAt\":\"2022-05-17T20:24:19Z\",\"content\":\"Fox News contributor and Professor of Business and Economics at The King\\xe2\\x80\\x99s College in New York City Brian Brenberg joins Fox Across America With Jimmy Failla to shed light on the current economic cri\\xe2\\x80\\xa6 [+1249 chars]\"},{\"source\":{\"id\":\"la-nacion\",\"name\":\"La Nacion\"},\"author\":null,\"title\":\"Wall street cierra con fuerte alza gracias al impulso de apple\",\"description\":\"Wall street cierra con fuerte alza gracias al impulso de apple\",\"url\":\"https://www.lanacion.com.ar/agencias/wall-street-cierra-con-fuerte-alza-gracias-al-impulso-de-apple-nid17052022/\",\"urlToImage\":\"https://resizer.glanacion.com/resizer/3RtWgCP--RAvm_gVQCN60D8EDIs=/768x0/filters:format(webp):quality(80)/cloudfront-us-east-1.images.arcpublishing.com/lanacionar/67GCK7VVHRH5JDZJTNRRSP7NEI.jpg\",\"publishedAt\":\"2022-05-17T20:23:17Z\",\"content\":\"(Actualiza al cierre. Cambia redacci\\xc3\\xb3n y agrega firma de autor)\\\\r\\\\nPor Amruta Khandekar y Noel Randewich\\\\r\\\\n17 mayo (Reuters) - Wall Street cerr\\xc3\\xb3 con una fuerte subida\\\\r\\\\nel martes, impulsado por Apple, Te\\xe2\\x80\\xa6 [+1951 chars]\"},{\"source\":{\"id\":null,\"name\":\"FX Empire\"},\"author\":\"Reuters\",\"title\":\"Prominent hedge funds invested in Twitter before Musk unveiled plans\",\"description\":\"By Svea Herbst-Bayliss BOSTON (Reuters) -   Prominent hedge funds, including Point72 Asset Management and Bridgewater Associates, invested in Twitter during the first quarter, putting them on course to reap big gains early in the second quarter when billionai\\xe2\\x80\\xa6\",\"url\":\"https://www.fxempire.com/news/article/prominent-hedge-funds-invested-in-twitter-before-musk-unveiled-plans-1004574\",\"urlToImage\":\"https://responsive.fxempire.com/width/600/webp-lossy-70.q50/_fxempire_/2022/05/tagreuters.com2022newsml_LYNXNPEI4G1431.jpg\",\"publishedAt\":\"2022-05-17T20:22:49Z\",\"content\":\"Point72, run by Steven A. Cohen, bought 1.5 million common shares worth $58.8 million while Balyasny Capital Management purchased roughly the same amount, according to regulatory filings and data com\\xe2\\x80\\xa6 [+1960 chars]\"},{\"source\":{\"id\":null,\"name\":\"redmondpie.com\"},\"author\":\"Oliver Haslam\",\"title\":\"You Can Add A Fifth Quick Control Icon To The Tesla App, Here\\xe2\\x80\\x99s How\",\"description\":\"You can now add a fifth quick control icon to the Tesla app. Here\\'s a video of it in action and how you can go about doing it yourself.\\xc2\\xa0\\\\nThe post You Can Add A Fifth Quick Control Icon To The Tesla App, Here\\xe2\\x80\\x99s How first appeared on Redmond Pie. [ Continue rea\\xe2\\x80\\xa6\",\"url\":\"https://www.redmondpie.com/you-can-add-a-fifth-quick-control-icon-to-the-tesla-app-heres-how/\",\"urlToImage\":\"https://cdn.redmondpie.com/wp-content/uploads/2021/08/tesla-new-app.jpg\",\"publishedAt\":\"2022-05-17T20:19:48Z\",\"content\":\"You can now add a fifth quick control icon to the Tesla app. Here\\xe2\\x80\\x99s a video of it in action and how you can go about doing it yourself.\\\\r\\\\nTesla\\xe2\\x80\\x99s smartphone app has long been one of the best around in\\xe2\\x80\\xa6 [+1243 chars]\"},{\"source\":{\"id\":null,\"name\":\"Developpez.com\"},\"author\":null,\"title\":\"Des attaques par relais Bluetooth permettent de d\\xc3\\xa9verrouiller et de conduire la Tesla Model 3 / Y, selon NCC Group\",\"description\":\"Le syst\\xef\\xbf\\xbdme d\\'entr\\xef\\xbf\\xbde passive BLE Phone-as-a-Key de Tesla est vuln\\xef\\xbf\\xbdrable aux attaques par relais. L\\xef\\xbf\\xbdannonce a \\xef\\xbf\\xbdt\\xef\\xbf\\xbd effectu\\xef\\xbf\\xbde par NCC Group, un expert mondial en mati\\xef\\xbf\\xbdre de cybers\\xef\\xbf\\xbdcurit\\xef\\xbf\\xbd et d\\'att\\xef\\xbf\\xbdnuation des risques, sur son site Internet. Les Tesla Model 3 et Mo\\xe2\\x80\\xa6\",\"url\":\"https://www.developpez.com/actu/333556/Des-attaques-par-relais-Bluetooth-permettent-de-deverrouiller-et-de-conduire-la-Tesla-Model-3-Y-selon-NCC-Group/\",\"urlToImage\":\"https://www.developpez.com/images/logos/tesla.png\",\"publishedAt\":\"2022-05-17T20:19:00Z\",\"content\":\"Le systme d\\'entre passive BLE Phone-as-a-Key de Tesla est vulnrable aux attaques par relais. Lannonce a t effectue par NCC Group, un expert mondial en matire de cyberscurit et d\\'attnuation des risque\\xe2\\x80\\xa6 [+5657 chars]\"},{\"source\":{\"id\":\"reuters\",\"name\":\"Reuters\"},\"author\":null,\"title\":\"Prominent hedge funds invested in Twitter before Musk unveiled plans - Reuters.com\",\"description\":\"Prominent hedge funds, including Point72 Asset Management and Bridgewater Associates, invested in Twitter <a href=\\\\\"https://www.reuters.com/companies/TWTR.N\\\\\" target=\\\\\"_blank\\\\\">(TWTR.N)</a> during the first quarter, putting them on course to reap big gains early \\xe2\\x80\\xa6\",\"url\":\"https://www.reuters.com/markets/us/prominent-hedge-funds-invested-twitter-before-musk-unveiled-plans-2022-05-17/\",\"urlToImage\":\"https://www.reuters.com/resizer/XK1nW-Bm4MsM5nHbN3n_OTuLLgs=/1200x628/smart/filters:quality(80)/cloudfront-us-east-2.images.arcpublishing.com/reuters/6R3LESNV3RMCJKNERSFQ45B6OM.jpg\",\"publishedAt\":\"2022-05-17T20:17:00Z\",\"content\":\"BOSTON, May 17 (Reuters) - Prominent hedge funds, including Point72 Asset Management and Bridgewater Associates, invested in Twitter (TWTR.N) during the first quarter, putting them on course to reap \\xe2\\x80\\xa6 [+2431 chars]\"},{\"source\":{\"id\":null,\"name\":\"Malwarebytes.com\"},\"author\":\"Christopher Boyd\",\"title\":\"Car owners warned of another theft-enabling relay attack\",\"description\":\"We take a look at the latest report of relay attacks used to steal cars. \\\\nThe post Car owners warned of another theft-enabling relay attack appeared first on Malwarebytes Labs.\",\"url\":\"https://blog.malwarebytes.com/hacking-2/2022/05/car-owners-warned-of-another-theft-enabling-relay-attack/\",\"urlToImage\":\"https://blog.malwarebytes.com/wp-content/uploads/2022/05/GettyImages-1186083777.jpg\",\"publishedAt\":\"2022-05-17T20:16:22Z\",\"content\":\"Tesla owners are no strangers to seeing reports of cars being tampered with outside of their control. Back in 2021, a zero-click exploit aided a drone in taking over the car\\xe2\\x80\\x99s entertainment system. I\\xe2\\x80\\xa6 [+4429 chars]\"},{\"source\":{\"id\":null,\"name\":\"Jalopnik\"},\"author\":\"Jos\\xc3\\xa9 Rodr\\xc3\\xadguez Jr.\",\"title\":\"Researchers Break Into a Tesla and Drive Away Using Bluetooth Vulnerability\",\"description\":\"Researchers have found a flaw in Bluetooth Low Energy (BLE) that allows an unknown device to be treated as familiar. This is a problem because many smart devices use BLE to recognize a trusted device as a key. The researchers even demonstrated the effectivene\\xe2\\x80\\xa6\",\"url\":\"https://jalopnik.com/researchers-break-into-a-tesla-and-drive-away-using-blu-1848938417\",\"urlToImage\":\"https://i.kinja-img.com/gawker-media/image/upload/c_fill,f_auto,fl_progressive,g_center,h_675,pg_1,q_80,w_1200/2eafd6727c822901c3cbfb5dd5041222.gif\",\"publishedAt\":\"2022-05-17T20:13:00Z\",\"content\":\"Researchers have found a flaw in Bluetooth Low Energy (BLE) that allows an unknown device to be treated as familiar. This is a problem because many smart devices use BLE to recognize a trusted device\\xe2\\x80\\xa6 [+1795 chars]\"},{\"source\":{\"id\":null,\"name\":\"Kiplinger\\'s Personal Finance\"},\"author\":\"Kyle Woodley\",\"title\":\"Stock Market Today: Wall Street Rallies Around Reassuring Retail Data\",\"description\":\"The stock market enjoyed a broad rebound Tuesday as fresh economic data suggested the U.S. consumer is still shopping strong.\\\\nThe U.S. Census Bureau said today that April retail sales improved by 0.9% over March. Though that was slightly less than the 1.0% ex\\xe2\\x80\\xa6\",\"url\":\"https://www.kiplinger.com/investing/stocks/604689/stock-market-today-wall-street-retail-data\",\"urlToImage\":\"https://mediacloud.kiplinger.com/image/private/s--X-WVjvBW--/f_auto,t_content-image-full-desktop@1/v1652816779/Investing/stock-market-today-051722.jpg\",\"publishedAt\":\"2022-05-17T20:11:44Z\",\"content\":\"The stock market enjoyed a broad rebound Tuesday as fresh economic data suggested the U.S. consumer is still shopping strong.\\\\r\\\\nThe U.S. Census Bureau said today that April retail sales improved by 0.\\xe2\\x80\\xa6 [+4484 chars]\"},{\"source\":{\"id\":null,\"name\":\"Forbes\"},\"author\":\"Sergei Klebnikov, Forbes Staff, \\\\n Sergei Klebnikov, Forbes Staff\\\\n https://www.forbes.com/sites/sergeiklebnikov/\",\"title\":\"Dow Jumps 400 Points After Powell Says Fed \\xe2\\x80\\x98Won\\xe2\\x80\\x99t Hesitate\\xe2\\x80\\x99 To Keep Raising Rates To Combat Inflation\",\"description\":\"Markets are attempting to recover from six straight weeks of selloffs.\",\"url\":\"https://www.forbes.com/sites/sergeiklebnikov/2022/05/17/dow-jumps-400-points-after-powell-says-fed-wont-hesitate-to-keep-raising-rates-to-combat-inflation/\",\"urlToImage\":\"https://imageio.forbes.com/specials-images/imageserve//62840010746e2556cb8c85be/0x0.jpg?format=jpg&crop=1415,796,x0,y30,safe&width=1200\",\"publishedAt\":\"2022-05-17T20:08:11Z\",\"content\":\"The stock market moved higher on Tuesday in an attempt to bounce back after six consecutive weeks of heavy losses, as investors digested the latest comments from Federal Reserve Chair Jerome Powell, \\xe2\\x80\\xa6 [+2913 chars]\"},{\"source\":{\"id\":null,\"name\":\"Jornaleconomico.pt\"},\"author\":\"Mariana Bandeira\",\"title\":\"Tecnol\\xc3\\xb3gicas animam Wall Street na segunda sess\\xc3\\xa3o da semana\",\"description\":\"Os t\\xc3\\xadtulos da Netflix valorizam mais de 2%, apesar de a imprensa norte-americana avan\\xc3\\xa7ar esta ter\\xc3\\xa7a-feira que a empresa de televis\\xc3\\xa3o por \\'streaming\\' est\\xc3\\xa1 num processo de demiss\\xc3\\xa3o de cerca de 150 trabalhadores em toda a empresa, o que ainda assim representa me\\xe2\\x80\\xa6\",\"url\":\"https://jornaleconomico.pt/noticias/tecnologicas-animam-wall-street-na-segunda-sessao-da-semana-894021\",\"urlToImage\":\"https://jornaleconomico.pt/wp-content/uploads/2019/04/Imagem-wall_street_reuters.jpg\",\"publishedAt\":\"2022-05-17T20:06:30Z\",\"content\":\"A bolsa de Nova Iorque fechou a sess\\xc3\\xa3o desta ter\\xc3\\xa7a-feira em terreno positivo, num dia em que os Estados Unidos divulgaram que a produ\\xc3\\xa7\\xc3\\xa3o industrial aumentou mais do que o previsto pelos analistas. A \\xe2\\x80\\xa6 [+2015 chars]\"},{\"source\":{\"id\":null,\"name\":\"Digital Trends\"},\"author\":\"Diego Bastarrica\",\"title\":\"El hackeo de Bluetooth compromete Teslas, cerraduras digitales y m\\xc3\\xa1s\",\"description\":\"No solo Tesla estar\\xc3\\xada bajo ataque, cualquier veh\\xc3\\xadculo que utilice Bluetooth Low Energy (BLE) para su sistema de entrada sin llave ser\\xc3\\xada vulnerable.\",\"url\":\"https://es.digitaltrends.com/inteligente/hackeo-bluetooth-tesla/\",\"urlToImage\":\"https://icdn.dtcn.com/image/digitaltrends_es/tesla-bluetooth-key-card.jpg\",\"publishedAt\":\"2022-05-17T20:05:50Z\",\"content\":\"Un grupo de investigadores de seguridad ha encontrado una manera de eludir las cerraduras digitales y otros sistemas de seguridad que dependen de la proximidad de un fob\\xc2\\xa0Bluetooth o un tel\\xc3\\xa9fono intel\\xe2\\x80\\xa6 [+6583 chars]\"},{\"source\":{\"id\":null,\"name\":\"SlashGear\"},\"author\":\"staff@slashgear.com (Nadeem Sarwar)\",\"title\":\"Elon Musk Doubles Down On Twitter Bots, Says \\'Deal Cannot Move Forward\\' Without Proof\",\"description\":\"Elon Musk appears to suggest he&#039;ll back out of an acquisition agreement with Twitter unless the company proves that bots account for less than 5% of its users.\",\"url\":\"https://www.slashgear.com/866272/elon-musk-doubles-down-on-twitter-bots-says-deal-cannot-move-forward-without-proof/\",\"urlToImage\":\"https://www.slashgear.com/img/gallery/elon-musk-doubles-down-on-twitter-bots-says-deal-cannot-move-forward-without-proof/l-intro-1652817490.jpg\",\"publishedAt\":\"2022-05-17T20:01:12Z\",\"content\":\"The Tesla chief claims that his offer to purchase Twitter was based on the company\\'s SEC filing, which allegedly mentioned that the percentage of spam accounts is five percent or lower, but the compa\\xe2\\x80\\xa6 [+1057 chars]\"}]}'"
      ]
     },
     "execution_count": 9,
     "metadata": {},
     "output_type": "execute_result"
    }
   ],
   "source": [
    "d.content"
   ]
  },
  {
   "cell_type": "code",
   "execution_count": 11,
   "id": "a193d64d",
   "metadata": {},
   "outputs": [
    {
     "data": {
      "text/html": [
       "<div>\n",
       "<style scoped>\n",
       "    .dataframe tbody tr th:only-of-type {\n",
       "        vertical-align: middle;\n",
       "    }\n",
       "\n",
       "    .dataframe tbody tr th {\n",
       "        vertical-align: top;\n",
       "    }\n",
       "\n",
       "    .dataframe thead th {\n",
       "        text-align: right;\n",
       "    }\n",
       "</style>\n",
       "<table border=\"1\" class=\"dataframe\">\n",
       "  <thead>\n",
       "    <tr style=\"text-align: right;\">\n",
       "      <th></th>\n",
       "      <th>HI</th>\n",
       "    </tr>\n",
       "  </thead>\n",
       "  <tbody>\n",
       "    <tr>\n",
       "      <th>0</th>\n",
       "      <td>test</td>\n",
       "    </tr>\n",
       "  </tbody>\n",
       "</table>\n",
       "</div>"
      ],
      "text/plain": [
       "     HI\n",
       "0  test"
      ]
     },
     "execution_count": 11,
     "metadata": {},
     "output_type": "execute_result"
    }
   ],
   "source": [
    "from io import StringIO\n",
    "import pandas as pd\n",
    "pd.read_csv(StringIO(\"HI\\r\\ntest\\r\\n\"))"
   ]
  },
  {
   "cell_type": "code",
   "execution_count": 12,
   "id": "79d6dc0c",
   "metadata": {},
   "outputs": [
    {
     "ename": "TypeError",
     "evalue": "initial_value must be str or None, not bytes",
     "output_type": "error",
     "traceback": [
      "\u001b[1;31m---------------------------------------------------------------------------\u001b[0m",
      "\u001b[1;31mTypeError\u001b[0m                                 Traceback (most recent call last)",
      "\u001b[1;32m<ipython-input-12-ffb2a6c6c5f3>\u001b[0m in \u001b[0;36m<module>\u001b[1;34m\u001b[0m\n\u001b[0;32m      1\u001b[0m \u001b[1;32mfrom\u001b[0m \u001b[0mio\u001b[0m \u001b[1;32mimport\u001b[0m \u001b[0mStringIO\u001b[0m\u001b[1;33m\u001b[0m\u001b[1;33m\u001b[0m\u001b[0m\n\u001b[0;32m      2\u001b[0m \u001b[1;32mimport\u001b[0m \u001b[0mpandas\u001b[0m \u001b[1;32mas\u001b[0m \u001b[0mpd\u001b[0m\u001b[1;33m\u001b[0m\u001b[1;33m\u001b[0m\u001b[0m\n\u001b[1;32m----> 3\u001b[1;33m \u001b[0mdf\u001b[0m \u001b[1;33m=\u001b[0m \u001b[0mpd\u001b[0m\u001b[1;33m.\u001b[0m\u001b[0mread_csv\u001b[0m\u001b[1;33m(\u001b[0m\u001b[0mStringIO\u001b[0m\u001b[1;33m(\u001b[0m\u001b[0md\u001b[0m\u001b[1;33m.\u001b[0m\u001b[0mcontent\u001b[0m\u001b[1;33m)\u001b[0m\u001b[1;33m)\u001b[0m\u001b[1;33m\u001b[0m\u001b[1;33m\u001b[0m\u001b[0m\n\u001b[0m",
      "\u001b[1;31mTypeError\u001b[0m: initial_value must be str or None, not bytes"
     ]
    }
   ],
   "source": [
    "from io import StringIO\n",
    "import pandas as pd\n",
    "df = pd.read_csv(StringIO(d.content))"
   ]
  },
  {
   "cell_type": "code",
   "execution_count": 13,
   "id": "9db3f988",
   "metadata": {},
   "outputs": [
    {
     "ename": "NameError",
     "evalue": "name 'io' is not defined",
     "output_type": "error",
     "traceback": [
      "\u001b[1;31m---------------------------------------------------------------------------\u001b[0m",
      "\u001b[1;31mNameError\u001b[0m                                 Traceback (most recent call last)",
      "\u001b[1;32m<ipython-input-13-fa203086ce7d>\u001b[0m in \u001b[0;36m<module>\u001b[1;34m\u001b[0m\n\u001b[1;32m----> 1\u001b[1;33m \u001b[0moutput\u001b[0m \u001b[1;33m=\u001b[0m \u001b[0mio\u001b[0m\u001b[1;33m.\u001b[0m\u001b[0mStringIO\u001b[0m\u001b[1;33m(\u001b[0m\u001b[1;33m)\u001b[0m\u001b[1;33m\u001b[0m\u001b[1;33m\u001b[0m\u001b[0m\n\u001b[0m",
      "\u001b[1;31mNameError\u001b[0m: name 'io' is not defined"
     ]
    }
   ],
   "source": [
    "output = io.StringIO()"
   ]
  },
  {
   "cell_type": "code",
   "execution_count": 14,
   "id": "6e2a1e90",
   "metadata": {},
   "outputs": [],
   "source": [
    "#df = pd.read_json('data/simple.json')\n",
    "\n",
    "\n",
    "df = pd.DataFrame.from_dict(pd.json_normalize(data), orient='columns')"
   ]
  },
  {
   "cell_type": "code",
   "execution_count": 15,
   "id": "d5f1ef3c",
   "metadata": {},
   "outputs": [
    {
     "data": {
      "text/html": [
       "<div>\n",
       "<style scoped>\n",
       "    .dataframe tbody tr th:only-of-type {\n",
       "        vertical-align: middle;\n",
       "    }\n",
       "\n",
       "    .dataframe tbody tr th {\n",
       "        vertical-align: top;\n",
       "    }\n",
       "\n",
       "    .dataframe thead th {\n",
       "        text-align: right;\n",
       "    }\n",
       "</style>\n",
       "<table border=\"1\" class=\"dataframe\">\n",
       "  <thead>\n",
       "    <tr style=\"text-align: right;\">\n",
       "      <th></th>\n",
       "      <th>Courses</th>\n",
       "      <th>Fee</th>\n",
       "      <th>Duration</th>\n",
       "    </tr>\n",
       "  </thead>\n",
       "  <tbody>\n",
       "    <tr>\n",
       "      <th>0</th>\n",
       "      <td>Spark</td>\n",
       "      <td>22000</td>\n",
       "      <td>40Days</td>\n",
       "    </tr>\n",
       "  </tbody>\n",
       "</table>\n",
       "</div>"
      ],
      "text/plain": [
       "  Courses    Fee Duration\n",
       "0   Spark  22000   40Days"
      ]
     },
     "execution_count": 15,
     "metadata": {},
     "output_type": "execute_result"
    }
   ],
   "source": [
    "df"
   ]
  }
 ],
 "metadata": {
  "kernelspec": {
   "display_name": "Python 3",
   "language": "python",
   "name": "python3"
  },
  "language_info": {
   "codemirror_mode": {
    "name": "ipython",
    "version": 3
   },
   "file_extension": ".py",
   "mimetype": "text/x-python",
   "name": "python",
   "nbconvert_exporter": "python",
   "pygments_lexer": "ipython3",
   "version": "3.8.8"
  }
 },
 "nbformat": 4,
 "nbformat_minor": 5
}
